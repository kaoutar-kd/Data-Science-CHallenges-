{
 "cells": [
  {
   "cell_type": "code",
   "execution_count": 1,
   "id": "c8606111",
   "metadata": {},
   "outputs": [],
   "source": [
    "import os \n",
    "import cv2\n",
    "import numpy as np\n",
    "import tensorflow as tf \n",
    "from tensorflow import keras \n",
    "from tensorflow.keras import layers, models \n",
    "import pandas as pd \n",
    "path = r'D:\\dowlands\\automatic-classification-of-fetal-ultrasound-brain\\data\\data' \n",
    "dirs = os.listdir(path)\n",
    "from PIL import Image"
   ]
  },
  {
   "cell_type": "code",
   "execution_count": 2,
   "id": "5a9ee647",
   "metadata": {},
   "outputs": [],
   "source": [
    "img_data_array = np.zeros((3093,300,300,3))\n",
    "for img in dirs: \n",
    "    image= np.array(Image.open(os.path.join(path, img)))\n",
    "    image= np.resize(image,(300,300,3))\n",
    "    image = image.astype('float32')\n",
    "    image /= 255  \n",
    "    img_data_array[dirs.index(img)]=image\n"
   ]
  },
  {
   "cell_type": "code",
   "execution_count": 3,
   "id": "87a028c9",
   "metadata": {},
   "outputs": [],
   "source": [
    "X_train = img_data_array[:2500]\n",
    "X_test = img_data_array[2500:]"
   ]
  },
  {
   "cell_type": "code",
   "execution_count": 4,
   "id": "be7abe98",
   "metadata": {},
   "outputs": [],
   "source": [
    "df= pd.read_csv('train.csv')\n",
    "dftest=pd.read_csv('sample_submission.csv')"
   ]
  },
  {
   "cell_type": "code",
   "execution_count": 5,
   "id": "90ddd2dc",
   "metadata": {},
   "outputs": [],
   "source": [
    "Y = np.array(df['class'].unique())"
   ]
  },
  {
   "cell_type": "code",
   "execution_count": 6,
   "id": "53e0822a",
   "metadata": {},
   "outputs": [],
   "source": [
    "df['classes'] = df['class'].replace({ 'Trans-thalamic': 0,'Trans-cerebellum': 1,'Trans-ventricular': 2,'Other':3})"
   ]
  },
  {
   "cell_type": "code",
   "execution_count": 7,
   "id": "8124117f",
   "metadata": {},
   "outputs": [],
   "source": [
    "Y = np.array(df['classes'])"
   ]
  },
  {
   "cell_type": "code",
   "execution_count": 8,
   "id": "7bbfac03",
   "metadata": {},
   "outputs": [
    {
     "data": {
      "text/plain": [
       "array([0, 1, 2, 3], dtype=int64)"
      ]
     },
     "execution_count": 8,
     "metadata": {},
     "output_type": "execute_result"
    }
   ],
   "source": [
    "df['classes'].unique()"
   ]
  },
  {
   "cell_type": "code",
   "execution_count": 9,
   "id": "3209e52e",
   "metadata": {},
   "outputs": [],
   "source": [
    "Y = tf.keras.utils.to_categorical(\n",
    "    Y, num_classes=4, dtype='uint8')"
   ]
  },
  {
   "cell_type": "code",
   "execution_count": 10,
   "id": "4346ec84",
   "metadata": {},
   "outputs": [
    {
     "data": {
      "text/plain": [
       "(2500, 4)"
      ]
     },
     "execution_count": 10,
     "metadata": {},
     "output_type": "execute_result"
    }
   ],
   "source": [
    "Y.shape"
   ]
  },
  {
   "cell_type": "code",
   "execution_count": 11,
   "id": "86205cd7",
   "metadata": {},
   "outputs": [],
   "source": [
    "train_DataGen = tf.keras.preprocessing.image.ImageDataGenerator(zoom_range=0.2, \n",
    "                                                                width_shift_range=0.1, \n",
    "                                                                height_shift_range = 0.1, \n",
    "                                                                horizontal_flip=True)\n",
    " \n",
    "train_set_conv = train_DataGen.flow(X_train, Y, batch_size=16) "
   ]
  },
  {
   "cell_type": "code",
   "execution_count": 12,
   "id": "727beb70",
   "metadata": {},
   "outputs": [],
   "source": [
    "Y_test = df['class']"
   ]
  },
  {
   "cell_type": "code",
   "execution_count": 32,
   "id": "548ca9ea",
   "metadata": {},
   "outputs": [
    {
     "data": {
      "text/plain": [
       "(592, 4)"
      ]
     },
     "execution_count": 32,
     "metadata": {},
     "output_type": "execute_result"
    }
   ],
   "source": [
    "Y_test.shape"
   ]
  },
  {
   "cell_type": "code",
   "execution_count": 13,
   "id": "394d381c",
   "metadata": {},
   "outputs": [],
   "source": [
    "dftest['class_coded']=dftest['class'].replace({ 'Trans-thalamic': 0,'Trans-cerebellum': 1,'Trans-ventricular': 2,'Other':3})\n",
    "Y_test = tf.keras.utils.to_categorical(np.array(dftest['class_coded']), num_classes = 4,dtype='uint8')\n"
   ]
  },
  {
   "cell_type": "code",
   "execution_count": 14,
   "id": "2ad9b6f4",
   "metadata": {},
   "outputs": [],
   "source": [
    "def happyModel():\n",
    "    \"\"\"\n",
    "    Implements the forward propagation for the binary classification model:\n",
    "    ZEROPAD2D -> CONV2D -> BATCHNORM -> RELU -> MAXPOOL -> FLATTEN -> DENSE\n",
    "    \"\"\"\n",
    "\n",
    "    model = tf.keras.Sequential([\n",
    "            ## ZeroPadding2D with padding 3, input shape of 300,300,3\n",
    "            \n",
    "            tf.keras.layers.ZeroPadding2D(padding = 3, input_shape = (300,300,3)),\n",
    "            ## Conv2D with 32 7x7 filters and stride of 1\n",
    "            tf.keras.layers.Conv2D(32, (7, 7), strides = 1),\n",
    "\n",
    "            tf.keras.layers.BatchNormalization(),\n",
    "            ## ReLU\n",
    "\n",
    "            tf.keras.layers.ReLU(),\n",
    "            ## Max Pooling 2D with default parameters\n",
    "            tf.keras.layers.MaxPool2D(),\n",
    "            ## Flatten layer\n",
    "            tf.keras.layers.Flatten(),\n",
    "            ## Dense layer with 4 unit for output & 'sigmoid' activation\n",
    "            tf.keras.layers.Dropout(0.4),\n",
    "            tf.keras.layers.Dense(4, activation = 'sigmoid')\n",
    "            # YOUR CODE ENDS HERE\n",
    "        \n",
    "        ])\n",
    "    return model\n",
    "    "
   ]
  },
  {
   "cell_type": "code",
   "execution_count": 15,
   "id": "c3f90e3a",
   "metadata": {},
   "outputs": [],
   "source": [
    "happy_model = happyModel()\n",
    "happy_model.compile(optimizer='adam',\n",
    "                   loss='binary_crossentropy',\n",
    "                   metrics=['accuracy'])"
   ]
  },
  {
   "cell_type": "code",
   "execution_count": 16,
   "id": "103ce78f",
   "metadata": {},
   "outputs": [
    {
     "name": "stdout",
     "output_type": "stream",
     "text": [
      "Model: \"sequential\"\n",
      "_________________________________________________________________\n",
      " Layer (type)                Output Shape              Param #   \n",
      "=================================================================\n",
      " zero_padding2d (ZeroPadding  (None, 306, 306, 3)      0         \n",
      " 2D)                                                             \n",
      "                                                                 \n",
      " conv2d (Conv2D)             (None, 300, 300, 32)      4736      \n",
      "                                                                 \n",
      " batch_normalization (BatchN  (None, 300, 300, 32)     128       \n",
      " ormalization)                                                   \n",
      "                                                                 \n",
      " re_lu (ReLU)                (None, 300, 300, 32)      0         \n",
      "                                                                 \n",
      " max_pooling2d (MaxPooling2D  (None, 150, 150, 32)     0         \n",
      " )                                                               \n",
      "                                                                 \n",
      " flatten (Flatten)           (None, 720000)            0         \n",
      "                                                                 \n",
      " dropout (Dropout)           (None, 720000)            0         \n",
      "                                                                 \n",
      " dense (Dense)               (None, 4)                 2880004   \n",
      "                                                                 \n",
      "=================================================================\n",
      "Total params: 2,884,868\n",
      "Trainable params: 2,884,804\n",
      "Non-trainable params: 64\n",
      "_________________________________________________________________\n"
     ]
    }
   ],
   "source": [
    "happy_model.summary()"
   ]
  },
  {
   "cell_type": "code",
   "execution_count": 17,
   "id": "96cf3b9a",
   "metadata": {},
   "outputs": [
    {
     "name": "stdout",
     "output_type": "stream",
     "text": [
      "Epoch 1/80\n",
      "157/157 [==============================] - 136s 841ms/step - loss: 11.6045 - accuracy: 0.4108\n",
      "Epoch 2/80\n",
      "157/157 [==============================] - 132s 840ms/step - loss: 9.5370 - accuracy: 0.4116\n",
      "Epoch 3/80\n",
      "157/157 [==============================] - 131s 831ms/step - loss: 9.2589 - accuracy: 0.3880\n",
      "Epoch 4/80\n",
      "157/157 [==============================] - 130s 826ms/step - loss: 5.9939 - accuracy: 0.3936\n",
      "Epoch 5/80\n",
      "157/157 [==============================] - 130s 830ms/step - loss: 4.0910 - accuracy: 0.4088\n",
      "Epoch 6/80\n",
      "157/157 [==============================] - 131s 833ms/step - loss: 2.7166 - accuracy: 0.4160\n",
      "Epoch 7/80\n",
      "157/157 [==============================] - 131s 835ms/step - loss: 1.5804 - accuracy: 0.4260\n",
      "Epoch 8/80\n",
      "157/157 [==============================] - 131s 830ms/step - loss: 1.0354 - accuracy: 0.4376\n",
      "Epoch 9/80\n",
      "157/157 [==============================] - 130s 827ms/step - loss: 0.8118 - accuracy: 0.4448\n",
      "Epoch 10/80\n",
      "157/157 [==============================] - 131s 832ms/step - loss: 0.6331 - accuracy: 0.4584\n",
      "Epoch 11/80\n",
      "157/157 [==============================] - 131s 835ms/step - loss: 0.5658 - accuracy: 0.4784\n",
      "Epoch 12/80\n",
      "157/157 [==============================] - 132s 836ms/step - loss: 0.5447 - accuracy: 0.4812\n",
      "Epoch 13/80\n",
      "157/157 [==============================] - 131s 835ms/step - loss: 0.5185 - accuracy: 0.4944\n",
      "Epoch 14/80\n",
      "157/157 [==============================] - 131s 833ms/step - loss: 0.5205 - accuracy: 0.4876\n",
      "Epoch 15/80\n",
      "157/157 [==============================] - 131s 832ms/step - loss: 0.4950 - accuracy: 0.5156\n",
      "Epoch 16/80\n",
      "157/157 [==============================] - 131s 831ms/step - loss: 0.4860 - accuracy: 0.5144\n",
      "Epoch 17/80\n",
      "157/157 [==============================] - 130s 824ms/step - loss: 0.4994 - accuracy: 0.5088\n",
      "Epoch 18/80\n",
      "157/157 [==============================] - 129s 819ms/step - loss: 0.4857 - accuracy: 0.5244\n",
      "Epoch 19/80\n",
      "157/157 [==============================] - 129s 819ms/step - loss: 0.4867 - accuracy: 0.5260\n",
      "Epoch 20/80\n",
      "157/157 [==============================] - 129s 818ms/step - loss: 0.4819 - accuracy: 0.5200\n",
      "Epoch 21/80\n",
      "157/157 [==============================] - 129s 821ms/step - loss: 0.4854 - accuracy: 0.5212\n",
      "Epoch 22/80\n",
      "157/157 [==============================] - 129s 820ms/step - loss: 0.4803 - accuracy: 0.5204\n",
      "Epoch 23/80\n",
      "157/157 [==============================] - 129s 823ms/step - loss: 0.4818 - accuracy: 0.5240\n",
      "Epoch 24/80\n",
      "157/157 [==============================] - 129s 819ms/step - loss: 0.4825 - accuracy: 0.5304\n",
      "Epoch 25/80\n",
      "157/157 [==============================] - 129s 819ms/step - loss: 0.4838 - accuracy: 0.5268\n",
      "Epoch 26/80\n",
      "157/157 [==============================] - 129s 818ms/step - loss: 0.4747 - accuracy: 0.5276\n",
      "Epoch 27/80\n",
      "157/157 [==============================] - 129s 820ms/step - loss: 0.4797 - accuracy: 0.5208\n",
      "Epoch 28/80\n",
      "157/157 [==============================] - 128s 816ms/step - loss: 0.4752 - accuracy: 0.5256\n",
      "Epoch 29/80\n",
      "157/157 [==============================] - 129s 818ms/step - loss: 0.4758 - accuracy: 0.5324\n",
      "Epoch 30/80\n",
      "157/157 [==============================] - 128s 817ms/step - loss: 0.4742 - accuracy: 0.5264\n",
      "Epoch 31/80\n",
      "157/157 [==============================] - 129s 818ms/step - loss: 0.4734 - accuracy: 0.5328\n",
      "Epoch 32/80\n",
      "157/157 [==============================] - 129s 819ms/step - loss: 0.4723 - accuracy: 0.5344\n",
      "Epoch 33/80\n",
      "157/157 [==============================] - 129s 823ms/step - loss: 0.4715 - accuracy: 0.5336\n",
      "Epoch 34/80\n",
      "157/157 [==============================] - 133s 848ms/step - loss: 0.4740 - accuracy: 0.5304\n",
      "Epoch 35/80\n",
      "157/157 [==============================] - 131s 831ms/step - loss: 0.4749 - accuracy: 0.5392\n",
      "Epoch 36/80\n",
      "157/157 [==============================] - 134s 850ms/step - loss: 0.4735 - accuracy: 0.5268\n",
      "Epoch 37/80\n",
      "157/157 [==============================] - 134s 852ms/step - loss: 0.4717 - accuracy: 0.5332\n",
      "Epoch 38/80\n",
      "157/157 [==============================] - 132s 839ms/step - loss: 0.4728 - accuracy: 0.5328\n",
      "Epoch 39/80\n",
      "157/157 [==============================] - 132s 837ms/step - loss: 0.4722 - accuracy: 0.5380\n",
      "Epoch 40/80\n",
      "157/157 [==============================] - 135s 861ms/step - loss: 0.4690 - accuracy: 0.5356\n",
      "Epoch 41/80\n",
      "157/157 [==============================] - 132s 840ms/step - loss: 0.4751 - accuracy: 0.5316\n",
      "Epoch 42/80\n",
      "157/157 [==============================] - 130s 829ms/step - loss: 0.4656 - accuracy: 0.5392\n",
      "Epoch 43/80\n",
      "157/157 [==============================] - 130s 824ms/step - loss: 0.4675 - accuracy: 0.5380\n",
      "Epoch 44/80\n",
      "157/157 [==============================] - 131s 832ms/step - loss: 0.4690 - accuracy: 0.5276\n",
      "Epoch 45/80\n",
      "157/157 [==============================] - 135s 856ms/step - loss: 0.4681 - accuracy: 0.5368\n",
      "Epoch 46/80\n",
      "157/157 [==============================] - 136s 867ms/step - loss: 0.4706 - accuracy: 0.5356\n",
      "Epoch 47/80\n",
      "157/157 [==============================] - 138s 879ms/step - loss: 0.4697 - accuracy: 0.5340\n",
      "Epoch 48/80\n",
      "157/157 [==============================] - 130s 829ms/step - loss: 0.4689 - accuracy: 0.5340\n",
      "Epoch 49/80\n",
      "157/157 [==============================] - 135s 857ms/step - loss: 0.4701 - accuracy: 0.5312\n",
      "Epoch 50/80\n",
      "157/157 [==============================] - 131s 834ms/step - loss: 0.4678 - accuracy: 0.5292\n",
      "Epoch 51/80\n",
      "157/157 [==============================] - 142s 903ms/step - loss: 0.4666 - accuracy: 0.5292\n",
      "Epoch 52/80\n",
      "157/157 [==============================] - 142s 904ms/step - loss: 0.4682 - accuracy: 0.5356\n",
      "Epoch 53/80\n",
      "157/157 [==============================] - 148s 942ms/step - loss: 0.4700 - accuracy: 0.5252\n",
      "Epoch 54/80\n",
      "157/157 [==============================] - 148s 940ms/step - loss: 0.4643 - accuracy: 0.5444\n",
      "Epoch 55/80\n",
      "157/157 [==============================] - 130s 825ms/step - loss: 0.4666 - accuracy: 0.5416\n",
      "Epoch 56/80\n",
      "157/157 [==============================] - 133s 849ms/step - loss: 0.4677 - accuracy: 0.5320\n",
      "Epoch 57/80\n",
      "157/157 [==============================] - 130s 824ms/step - loss: 0.4659 - accuracy: 0.5424\n",
      "Epoch 58/80\n",
      "157/157 [==============================] - 133s 847ms/step - loss: 0.4689 - accuracy: 0.5308\n",
      "Epoch 59/80\n",
      "157/157 [==============================] - 136s 867ms/step - loss: 0.4655 - accuracy: 0.5336\n",
      "Epoch 60/80\n",
      "157/157 [==============================] - 130s 824ms/step - loss: 0.4651 - accuracy: 0.5380\n",
      "Epoch 61/80\n",
      "157/157 [==============================] - 139s 884ms/step - loss: 0.4677 - accuracy: 0.5368\n",
      "Epoch 62/80\n",
      "157/157 [==============================] - 134s 853ms/step - loss: 0.4641 - accuracy: 0.5380\n",
      "Epoch 63/80\n",
      "157/157 [==============================] - 136s 867ms/step - loss: 0.4651 - accuracy: 0.5372\n",
      "Epoch 64/80\n",
      "157/157 [==============================] - 136s 868ms/step - loss: 0.4665 - accuracy: 0.5336\n",
      "Epoch 65/80\n",
      "157/157 [==============================] - 132s 839ms/step - loss: 0.4649 - accuracy: 0.5356\n",
      "Epoch 66/80\n",
      "157/157 [==============================] - 127s 808ms/step - loss: 0.4598 - accuracy: 0.5468\n",
      "Epoch 67/80\n",
      "157/157 [==============================] - 127s 810ms/step - loss: 0.4676 - accuracy: 0.5372\n",
      "Epoch 68/80\n",
      "157/157 [==============================] - 127s 805ms/step - loss: 0.4686 - accuracy: 0.5356\n",
      "Epoch 69/80\n",
      "157/157 [==============================] - 127s 806ms/step - loss: 0.4642 - accuracy: 0.5372\n",
      "Epoch 70/80\n",
      "157/157 [==============================] - 133s 849ms/step - loss: 0.4648 - accuracy: 0.5356\n",
      "Epoch 71/80\n",
      "157/157 [==============================] - 136s 867ms/step - loss: 0.4617 - accuracy: 0.5428\n",
      "Epoch 72/80\n",
      "157/157 [==============================] - 135s 861ms/step - loss: 0.4638 - accuracy: 0.5380\n",
      "Epoch 73/80\n",
      "157/157 [==============================] - 130s 825ms/step - loss: 0.4654 - accuracy: 0.5380\n",
      "Epoch 74/80\n",
      "157/157 [==============================] - 132s 837ms/step - loss: 0.4641 - accuracy: 0.5392\n",
      "Epoch 75/80\n",
      "157/157 [==============================] - 132s 841ms/step - loss: 0.4678 - accuracy: 0.5336\n",
      "Epoch 76/80\n",
      "157/157 [==============================] - 133s 847ms/step - loss: 0.4637 - accuracy: 0.5372\n",
      "Epoch 77/80\n",
      "157/157 [==============================] - 140s 888ms/step - loss: 0.4674 - accuracy: 0.5324\n",
      "Epoch 78/80\n",
      "157/157 [==============================] - 135s 860ms/step - loss: 0.4663 - accuracy: 0.5388\n",
      "Epoch 79/80\n",
      "157/157 [==============================] - 141s 898ms/step - loss: 0.4635 - accuracy: 0.5328\n",
      "Epoch 80/80\n",
      "157/157 [==============================] - 142s 902ms/step - loss: 0.4631 - accuracy: 0.5344\n"
     ]
    },
    {
     "data": {
      "text/plain": [
       "<keras.callbacks.History at 0x23b30780550>"
      ]
     },
     "execution_count": 17,
     "metadata": {},
     "output_type": "execute_result"
    }
   ],
   "source": [
    "happy_model.fit(train_set_conv, epochs=80, batch_size=16)"
   ]
  },
  {
   "cell_type": "code",
   "execution_count": 20,
   "id": "8d8a1d1e",
   "metadata": {},
   "outputs": [
    {
     "name": "stdout",
     "output_type": "stream",
     "text": [
      "19/19 [==============================] - 6s 333ms/step - loss: 0.6289 - accuracy: 0.4966\n"
     ]
    }
   ],
   "source": [
    "result = happy_model.evaluate(X_test[:592], Y_test)"
   ]
  },
  {
   "cell_type": "code",
   "execution_count": 70,
   "id": "eace9d69",
   "metadata": {},
   "outputs": [],
   "source": [
    "df1 = pd.read_csv('test.csv')"
   ]
  },
  {
   "cell_type": "code",
   "execution_count": 38,
   "id": "032391c6",
   "metadata": {},
   "outputs": [],
   "source": [
    "pred = happy_model.predict(X_test[:592])"
   ]
  },
  {
   "cell_type": "code",
   "execution_count": 39,
   "id": "fce425b5",
   "metadata": {},
   "outputs": [],
   "source": [
    "result = np.argmax(pred, axis = 1)"
   ]
  },
  {
   "cell_type": "code",
   "execution_count": 71,
   "id": "2f97a97b",
   "metadata": {},
   "outputs": [],
   "source": [
    "df1['class'] = result"
   ]
  },
  {
   "cell_type": "code",
   "execution_count": 73,
   "id": "47a29579",
   "metadata": {},
   "outputs": [],
   "source": [
    "df1 ['class'] = df1['class'].replace({ 0:  'Trans-thalamic',1: 'Trans-cerebellum',2 :'Trans-ventricular' ,3 :'Other'})"
   ]
  },
  {
   "cell_type": "code",
   "execution_count": 75,
   "id": "594fe867",
   "metadata": {},
   "outputs": [],
   "source": [
    "df1.to_csv('sub.csv', index=False)"
   ]
  },
  {
   "cell_type": "code",
   "execution_count": 74,
   "id": "c8c035ff",
   "metadata": {},
   "outputs": [
    {
     "data": {
      "text/html": [
       "<div>\n",
       "<style scoped>\n",
       "    .dataframe tbody tr th:only-of-type {\n",
       "        vertical-align: middle;\n",
       "    }\n",
       "\n",
       "    .dataframe tbody tr th {\n",
       "        vertical-align: top;\n",
       "    }\n",
       "\n",
       "    .dataframe thead th {\n",
       "        text-align: right;\n",
       "    }\n",
       "</style>\n",
       "<table border=\"1\" class=\"dataframe\">\n",
       "  <thead>\n",
       "    <tr style=\"text-align: right;\">\n",
       "      <th></th>\n",
       "      <th>image_name</th>\n",
       "      <th>class</th>\n",
       "    </tr>\n",
       "  </thead>\n",
       "  <tbody>\n",
       "    <tr>\n",
       "      <th>0</th>\n",
       "      <td>Patient01563_Plane3_1_of_3</td>\n",
       "      <td>Trans-thalamic</td>\n",
       "    </tr>\n",
       "    <tr>\n",
       "      <th>1</th>\n",
       "      <td>Patient01563_Plane3_2_of_3</td>\n",
       "      <td>Trans-thalamic</td>\n",
       "    </tr>\n",
       "    <tr>\n",
       "      <th>2</th>\n",
       "      <td>Patient01563_Plane3_3_of_3</td>\n",
       "      <td>Trans-thalamic</td>\n",
       "    </tr>\n",
       "    <tr>\n",
       "      <th>3</th>\n",
       "      <td>Patient01564_Plane3_1_of_2</td>\n",
       "      <td>Trans-cerebellum</td>\n",
       "    </tr>\n",
       "    <tr>\n",
       "      <th>4</th>\n",
       "      <td>Patient01564_Plane3_2_of_2</td>\n",
       "      <td>Trans-thalamic</td>\n",
       "    </tr>\n",
       "    <tr>\n",
       "      <th>...</th>\n",
       "      <td>...</td>\n",
       "      <td>...</td>\n",
       "    </tr>\n",
       "    <tr>\n",
       "      <th>587</th>\n",
       "      <td>Patient01790_Plane3_2_of_2</td>\n",
       "      <td>Trans-thalamic</td>\n",
       "    </tr>\n",
       "    <tr>\n",
       "      <th>588</th>\n",
       "      <td>Patient01791_Plane3_1_of_3</td>\n",
       "      <td>Trans-thalamic</td>\n",
       "    </tr>\n",
       "    <tr>\n",
       "      <th>589</th>\n",
       "      <td>Patient01791_Plane3_2_of_3</td>\n",
       "      <td>Trans-thalamic</td>\n",
       "    </tr>\n",
       "    <tr>\n",
       "      <th>590</th>\n",
       "      <td>Patient01791_Plane3_3_of_3</td>\n",
       "      <td>Trans-thalamic</td>\n",
       "    </tr>\n",
       "    <tr>\n",
       "      <th>591</th>\n",
       "      <td>Patient01792_Plane3_1_of_1</td>\n",
       "      <td>Trans-thalamic</td>\n",
       "    </tr>\n",
       "  </tbody>\n",
       "</table>\n",
       "<p>592 rows × 2 columns</p>\n",
       "</div>"
      ],
      "text/plain": [
       "                     image_name             class\n",
       "0    Patient01563_Plane3_1_of_3    Trans-thalamic\n",
       "1    Patient01563_Plane3_2_of_3    Trans-thalamic\n",
       "2    Patient01563_Plane3_3_of_3    Trans-thalamic\n",
       "3    Patient01564_Plane3_1_of_2  Trans-cerebellum\n",
       "4    Patient01564_Plane3_2_of_2    Trans-thalamic\n",
       "..                          ...               ...\n",
       "587  Patient01790_Plane3_2_of_2    Trans-thalamic\n",
       "588  Patient01791_Plane3_1_of_3    Trans-thalamic\n",
       "589  Patient01791_Plane3_2_of_3    Trans-thalamic\n",
       "590  Patient01791_Plane3_3_of_3    Trans-thalamic\n",
       "591  Patient01792_Plane3_1_of_1    Trans-thalamic\n",
       "\n",
       "[592 rows x 2 columns]"
      ]
     },
     "execution_count": 74,
     "metadata": {},
     "output_type": "execute_result"
    }
   ],
   "source": [
    "df1"
   ]
  },
  {
   "cell_type": "code",
   "execution_count": null,
   "id": "bcb5d2b2",
   "metadata": {},
   "outputs": [],
   "source": []
  }
 ],
 "metadata": {
  "kernelspec": {
   "display_name": "Python 3 (ipykernel)",
   "language": "python",
   "name": "python3"
  },
  "language_info": {
   "codemirror_mode": {
    "name": "ipython",
    "version": 3
   },
   "file_extension": ".py",
   "mimetype": "text/x-python",
   "name": "python",
   "nbconvert_exporter": "python",
   "pygments_lexer": "ipython3",
   "version": "3.9.7"
  }
 },
 "nbformat": 4,
 "nbformat_minor": 5
}
